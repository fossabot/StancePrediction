{
 "cells": [
  {
   "cell_type": "markdown",
   "metadata": {},
   "source": [
    "**NOTE**:\n",
    "This notebook has been created automatically from the _html_ export provided with the programming task\n",
    "using the python script from [this gist](https://gist.github.com/jmrf/5a77ed5ff27e79ed2ffe113aabce6c26).\n",
    "\n",
    "Additional comments and minnor changes have been made.\n",
    "\n",
    "More information on the _SemEval 2016_ datatset can be found [here](http://alt.qcri.org/semeval2016/task6/)\n"
   ]
  },
  {
   "cell_type": "markdown",
   "metadata": {},
   "source": [
    "\n",
    "<p></p><h1>Table of Contents<span class=\"tocSkip\"></span></h1>\n",
    "<div class=\"toc\"><ul class=\"toc-item\"><li><span><a data-toc-modified-id=\"Input-parameters-1\" href=\"#Input-parameters\"><span class=\"toc-item-num\">1  </span>Input parameters</a></span></li><li><span><a data-toc-modified-id=\"Load-SemEval-2016-data-2\" href=\"#Load-SemEval-2016-data\"><span class=\"toc-item-num\">2  </span>Load SemEval 2016 data</a></span><ul class=\"toc-item\"><li><span><a data-toc-modified-id=\"Loading-the-training-data-2.1\" href=\"#Loading-the-training-data\"><span class=\"toc-item-num\">2.1  </span>Loading the training data</a></span></li><li><span><a data-toc-modified-id=\"Loading-the-test-data-2.2\" href=\"#Loading-the-test-data\"><span class=\"toc-item-num\">2.2  </span>Loading the test data</a></span></li></ul></li></ul></div>\n"
   ]
  },
  {
   "cell_type": "code",
   "execution_count": 14,
   "metadata": {},
   "outputs": [],
   "source": [
    "import pandas as pd\n",
    "import numpy as np\n",
    "import csv"
   ]
  },
  {
   "cell_type": "markdown",
   "metadata": {},
   "source": [
    "\n",
    "<h1 id=\"Input-parameters\">Input parameters<a class=\"anchor-link\" href=\"#Input-parameters\">¶</a></h1>\n"
   ]
  },
  {
   "cell_type": "code",
   "execution_count": 15,
   "metadata": {},
   "outputs": [],
   "source": [
    "dataset_path = '../data/'"
   ]
  },
  {
   "cell_type": "markdown",
   "metadata": {},
   "source": [
    "\n",
    "<h1 id=\"Load-SemEval-2016-data\">Load SemEval 2016 data<a class=\"anchor-link\" href=\"#Load-SemEval-2016-data\">¶</a></h1>\n"
   ]
  },
  {
   "cell_type": "markdown",
   "metadata": {},
   "source": [
    "\n",
    "<h2 id=\"Loading-the-training-data\">Loading the training data<a class=\"anchor-link\" href=\"#Loading-the-training-data\">¶</a></h2>\n"
   ]
  },
  {
   "cell_type": "code",
   "execution_count": 16,
   "metadata": {},
   "outputs": [
    {
     "name": "stdout",
     "output_type": "stream",
     "text": [
      "2914\n"
     ]
    },
    {
     "data": {
      "text/html": [
       "<div>\n",
       "<style scoped>\n",
       "    .dataframe tbody tr th:only-of-type {\n",
       "        vertical-align: middle;\n",
       "    }\n",
       "\n",
       "    .dataframe tbody tr th {\n",
       "        vertical-align: top;\n",
       "    }\n",
       "\n",
       "    .dataframe thead th {\n",
       "        text-align: right;\n",
       "    }\n",
       "</style>\n",
       "<table border=\"1\" class=\"dataframe\">\n",
       "  <thead>\n",
       "    <tr style=\"text-align: right;\">\n",
       "      <th></th>\n",
       "      <th>Tweet</th>\n",
       "      <th>Target</th>\n",
       "      <th>Stance</th>\n",
       "      <th>Opinion Towards</th>\n",
       "      <th>Sentiment</th>\n",
       "    </tr>\n",
       "  </thead>\n",
       "  <tbody>\n",
       "    <tr>\n",
       "      <th>0</th>\n",
       "      <td>@tedcruz And, #HandOverTheServer she wiped cle...</td>\n",
       "      <td>Hillary Clinton</td>\n",
       "      <td>AGAINST</td>\n",
       "      <td>1.  The tweet explicitly expresses opinion abo...</td>\n",
       "      <td>neg</td>\n",
       "    </tr>\n",
       "    <tr>\n",
       "      <th>1</th>\n",
       "      <td>Hillary is our best choice if we truly want to...</td>\n",
       "      <td>Hillary Clinton</td>\n",
       "      <td>FAVOR</td>\n",
       "      <td>1.  The tweet explicitly expresses opinion abo...</td>\n",
       "      <td>pos</td>\n",
       "    </tr>\n",
       "    <tr>\n",
       "      <th>2</th>\n",
       "      <td>@TheView I think our country is ready for a fe...</td>\n",
       "      <td>Hillary Clinton</td>\n",
       "      <td>AGAINST</td>\n",
       "      <td>1.  The tweet explicitly expresses opinion abo...</td>\n",
       "      <td>neg</td>\n",
       "    </tr>\n",
       "    <tr>\n",
       "      <th>3</th>\n",
       "      <td>I just gave an unhealthy amount of my hard-ear...</td>\n",
       "      <td>Hillary Clinton</td>\n",
       "      <td>AGAINST</td>\n",
       "      <td>1.  The tweet explicitly expresses opinion abo...</td>\n",
       "      <td>neg</td>\n",
       "    </tr>\n",
       "    <tr>\n",
       "      <th>4</th>\n",
       "      <td>@PortiaABoulger Thank you for adding me to you...</td>\n",
       "      <td>Hillary Clinton</td>\n",
       "      <td>NONE</td>\n",
       "      <td>3.  The tweet is not explicitly expressing opi...</td>\n",
       "      <td>pos</td>\n",
       "    </tr>\n",
       "  </tbody>\n",
       "</table>\n",
       "</div>"
      ],
      "text/plain": [
       "                                               Tweet           Target  \\\n",
       "0  @tedcruz And, #HandOverTheServer she wiped cle...  Hillary Clinton   \n",
       "1  Hillary is our best choice if we truly want to...  Hillary Clinton   \n",
       "2  @TheView I think our country is ready for a fe...  Hillary Clinton   \n",
       "3  I just gave an unhealthy amount of my hard-ear...  Hillary Clinton   \n",
       "4  @PortiaABoulger Thank you for adding me to you...  Hillary Clinton   \n",
       "\n",
       "    Stance                                    Opinion Towards Sentiment  \n",
       "0  AGAINST  1.  The tweet explicitly expresses opinion abo...       neg  \n",
       "1    FAVOR  1.  The tweet explicitly expresses opinion abo...       pos  \n",
       "2  AGAINST  1.  The tweet explicitly expresses opinion abo...       neg  \n",
       "3  AGAINST  1.  The tweet explicitly expresses opinion abo...       neg  \n",
       "4     NONE  3.  The tweet is not explicitly expressing opi...       pos  "
      ]
     },
     "execution_count": 16,
     "metadata": {},
     "output_type": "execute_result"
    }
   ],
   "source": [
    "data = []\n",
    "\n",
    "with open(dataset_path + 'SemEval2016-Task6-subtaskA-traindata-gold.csv', 'r',  encoding=\"iso-8859-1\") as fin:\n",
    "    reader = csv.reader(fin, quotechar='\"')\n",
    "    columns = next(reader)\n",
    "    for line in reader:\n",
    "        data.append(line)\n",
    "        \n",
    "data_df = pd.DataFrame(data, columns=columns)\n",
    "\n",
    "print(len(data_df))\n",
    "data_df.head()"
   ]
  },
  {
   "cell_type": "code",
   "execution_count": 15,
   "metadata": {},
   "outputs": [
    {
     "data": {
      "text/plain": [
       "Hillary Clinton                     689\n",
       "Feminist Movement                   664\n",
       "Legalization of Abortion            653\n",
       "Atheism                             513\n",
       "Climate Change is a Real Concern    395\n",
       "Name: Target, dtype: int64"
      ]
     },
     "execution_count": 15,
     "metadata": {},
     "output_type": "execute_result"
    }
   ],
   "source": [
    "data_df['Target'].value_counts()"
   ]
  },
  {
   "cell_type": "code",
   "execution_count": 18,
   "metadata": {},
   "outputs": [
    {
     "data": {
      "text/plain": [
       "Hillary Clinton                     23.644475\n",
       "Feminist Movement                   22.786548\n",
       "Legalization of Abortion            22.409060\n",
       "Atheism                             17.604667\n",
       "Climate Change is a Real Concern    13.555251\n",
       "Name: Target, dtype: float64"
      ]
     },
     "execution_count": 18,
     "metadata": {},
     "output_type": "execute_result"
    }
   ],
   "source": [
    "data_df['Target'].value_counts(normalize=True) * 100"
   ]
  },
  {
   "cell_type": "code",
   "execution_count": 17,
   "metadata": {},
   "outputs": [
    {
     "name": "stdout",
     "output_type": "stream",
     "text": [
      "Average tweet length: 108.10432395332876\n"
     ]
    }
   ],
   "source": [
    "print(\"Average tweet length: {}\".format(np.mean([len(t) for t in data_df['Tweet'].tolist()])))"
   ]
  },
  {
   "cell_type": "markdown",
   "metadata": {},
   "source": [
    "\n",
    "<h2 id=\"Loading-the-test-data\">Loading the test data<a class=\"anchor-link\" href=\"#Loading-the-test-data\">¶</a></h2>\n"
   ]
  },
  {
   "cell_type": "code",
   "execution_count": 7,
   "metadata": {},
   "outputs": [
    {
     "name": "stdout",
     "output_type": "stream",
     "text": [
      "1249\n"
     ]
    },
    {
     "data": {
      "text/html": [
       "<div>\n",
       "<style scoped>\n",
       "    .dataframe tbody tr th:only-of-type {\n",
       "        vertical-align: middle;\n",
       "    }\n",
       "\n",
       "    .dataframe tbody tr th {\n",
       "        vertical-align: top;\n",
       "    }\n",
       "\n",
       "    .dataframe thead th {\n",
       "        text-align: right;\n",
       "    }\n",
       "</style>\n",
       "<table border=\"1\" class=\"dataframe\">\n",
       "  <thead>\n",
       "    <tr style=\"text-align: right;\">\n",
       "      <th></th>\n",
       "      <th>ID</th>\n",
       "      <th>Target</th>\n",
       "      <th>Tweet</th>\n",
       "      <th>Stance</th>\n",
       "    </tr>\n",
       "  </thead>\n",
       "  <tbody>\n",
       "    <tr>\n",
       "      <th>0</th>\n",
       "      <td>10001</td>\n",
       "      <td>Atheism</td>\n",
       "      <td>He who exalts himself shall      be humbled; a...</td>\n",
       "      <td>AGAINST</td>\n",
       "    </tr>\n",
       "    <tr>\n",
       "      <th>1</th>\n",
       "      <td>10002</td>\n",
       "      <td>Atheism</td>\n",
       "      <td>RT @prayerbullets: I remove Nehushtan -previou...</td>\n",
       "      <td>AGAINST</td>\n",
       "    </tr>\n",
       "    <tr>\n",
       "      <th>2</th>\n",
       "      <td>10003</td>\n",
       "      <td>Atheism</td>\n",
       "      <td>@Brainman365 @heidtjj @BenjaminLives I have so...</td>\n",
       "      <td>AGAINST</td>\n",
       "    </tr>\n",
       "    <tr>\n",
       "      <th>3</th>\n",
       "      <td>10004</td>\n",
       "      <td>Atheism</td>\n",
       "      <td>#God is utterly powerless without Human interv...</td>\n",
       "      <td>AGAINST</td>\n",
       "    </tr>\n",
       "    <tr>\n",
       "      <th>4</th>\n",
       "      <td>10005</td>\n",
       "      <td>Atheism</td>\n",
       "      <td>@David_Cameron   Miracles of #Multiculturalism...</td>\n",
       "      <td>AGAINST</td>\n",
       "    </tr>\n",
       "  </tbody>\n",
       "</table>\n",
       "</div>"
      ],
      "text/plain": [
       "      ID   Target                                              Tweet   Stance\n",
       "0  10001  Atheism  He who exalts himself shall      be humbled; a...  AGAINST\n",
       "1  10002  Atheism  RT @prayerbullets: I remove Nehushtan -previou...  AGAINST\n",
       "2  10003  Atheism  @Brainman365 @heidtjj @BenjaminLives I have so...  AGAINST\n",
       "3  10004  Atheism  #God is utterly powerless without Human interv...  AGAINST\n",
       "4  10005  Atheism  @David_Cameron   Miracles of #Multiculturalism...  AGAINST"
      ]
     },
     "execution_count": 7,
     "metadata": {},
     "output_type": "execute_result"
    }
   ],
   "source": [
    "data = []\n",
    "\n",
    "with open(dataset_path + 'SemEval2016-Task6-subtaskA-testdata-gold.txt', 'r',  encoding=\"iso-8859-1\") as fin:\n",
    "    reader = csv.reader(fin, delimiter='\\t')\n",
    "    columns = next(reader)\n",
    "    for line in reader:\n",
    "        data.append(line)\n",
    "\n",
    "test_data_df = pd.DataFrame(data, columns=columns)\n",
    "\n",
    "print(len(test_data_df))\n",
    "test_data_df.head()"
   ]
  },
  {
   "cell_type": "code",
   "execution_count": 8,
   "metadata": {},
   "outputs": [
    {
     "data": {
      "text/plain": [
       "Hillary Clinton                     295\n",
       "Feminist Movement                   285\n",
       "Legalization of Abortion            280\n",
       "Atheism                             220\n",
       "Climate Change is a Real Concern    169\n",
       "Name: Target, dtype: int64"
      ]
     },
     "execution_count": 8,
     "metadata": {},
     "output_type": "execute_result"
    }
   ],
   "source": [
    "test_data_df['Target'].value_counts()"
   ]
  },
  {
   "cell_type": "markdown",
   "metadata": {},
   "source": [
    "## Loading Stance.csv (different domain)"
   ]
  },
  {
   "cell_type": "code",
   "execution_count": 18,
   "metadata": {},
   "outputs": [
    {
     "data": {
      "text/plain": [
       "hillary     204\n",
       "feminism     52\n",
       "climate      29\n",
       "abortion     26\n",
       "Name: controversial trending issue, dtype: int64"
      ]
     },
     "execution_count": 18,
     "metadata": {},
     "output_type": "execute_result"
    }
   ],
   "source": [
    "data = []\n",
    "\n",
    "with open(dataset_path + 'stance.csv', 'r',  encoding=\"iso-8859-1\") as fin:\n",
    "    reader = csv.reader(fin, quotechar='\"')\n",
    "    columns = next(reader)\n",
    "    for line in reader:\n",
    "        data.append(line)\n",
    "        \n",
    "data_df = pd.DataFrame(data, columns=columns)\n",
    "\n",
    "\n",
    "\n",
    "data_df['controversial trending issue'].value_counts()"
   ]
  },
  {
   "cell_type": "code",
   "execution_count": 11,
   "metadata": {},
   "outputs": [
    {
     "name": "stdout",
     "output_type": "stream",
     "text": [
      "311\n",
      "['url', 'title', 'text', 'controversial trending issue']\n"
     ]
    },
    {
     "data": {
      "text/html": [
       "<div>\n",
       "<style scoped>\n",
       "    .dataframe tbody tr th:only-of-type {\n",
       "        vertical-align: middle;\n",
       "    }\n",
       "\n",
       "    .dataframe tbody tr th {\n",
       "        vertical-align: top;\n",
       "    }\n",
       "\n",
       "    .dataframe thead th {\n",
       "        text-align: right;\n",
       "    }\n",
       "</style>\n",
       "<table border=\"1\" class=\"dataframe\">\n",
       "  <thead>\n",
       "    <tr style=\"text-align: right;\">\n",
       "      <th></th>\n",
       "      <th>url</th>\n",
       "      <th>title</th>\n",
       "      <th>text</th>\n",
       "      <th>controversial trending issue</th>\n",
       "    </tr>\n",
       "  </thead>\n",
       "  <tbody>\n",
       "    <tr>\n",
       "      <th>0</th>\n",
       "      <td>http://dailyusaupdate.com/unbelievable-james-c...</td>\n",
       "      <td>UNBELIEVABLE: James Comey Involved in a SEX SC...</td>\n",
       "      <td>Maybe, he will say that he doesnât remember ...</td>\n",
       "      <td>hillary</td>\n",
       "    </tr>\n",
       "    <tr>\n",
       "      <th>1</th>\n",
       "      <td>http://divorcexpo.com/</td>\n",
       "      <td>Rap Sheet: The Women Who Claim to Be Victims o...</td>\n",
       "      <td>While Bill Cosby is finally doing a long overd...</td>\n",
       "      <td>hillary</td>\n",
       "    </tr>\n",
       "    <tr>\n",
       "      <th>2</th>\n",
       "      <td>http://dailyheadlines.net/2016/11/clintons-pan...</td>\n",
       "      <td>Clintons Panic: Loretta Lynch Faces Federal La...</td>\n",
       "      <td>The American Center for Law and Justice (ACLJ)...</td>\n",
       "      <td>hillary</td>\n",
       "    </tr>\n",
       "    <tr>\n",
       "      <th>3</th>\n",
       "      <td>http://dailyheadlines.net/2017/06/sen-chuck-gr...</td>\n",
       "      <td>Sen. Chuck Grassley Opens Corruption Investiga...</td>\n",
       "      <td>The democrats are about to pay for their false...</td>\n",
       "      <td>hillary</td>\n",
       "    </tr>\n",
       "    <tr>\n",
       "      <th>4</th>\n",
       "      <td>http://dailyheadlines.net/2017/01/the-podesta-...</td>\n",
       "      <td>The Podesta Group Lost a Yuge Client Because H...</td>\n",
       "      <td>The Clinton Foundation isnât the only big lo...</td>\n",
       "      <td>hillary</td>\n",
       "    </tr>\n",
       "  </tbody>\n",
       "</table>\n",
       "</div>"
      ],
      "text/plain": [
       "                                                 url  \\\n",
       "0  http://dailyusaupdate.com/unbelievable-james-c...   \n",
       "1                             http://divorcexpo.com/   \n",
       "2  http://dailyheadlines.net/2016/11/clintons-pan...   \n",
       "3  http://dailyheadlines.net/2017/06/sen-chuck-gr...   \n",
       "4  http://dailyheadlines.net/2017/01/the-podesta-...   \n",
       "\n",
       "                                               title  \\\n",
       "0  UNBELIEVABLE: James Comey Involved in a SEX SC...   \n",
       "1  Rap Sheet: The Women Who Claim to Be Victims o...   \n",
       "2  Clintons Panic: Loretta Lynch Faces Federal La...   \n",
       "3  Sen. Chuck Grassley Opens Corruption Investiga...   \n",
       "4  The Podesta Group Lost a Yuge Client Because H...   \n",
       "\n",
       "                                                text  \\\n",
       "0  Maybe, he will say that he doesnât remember ...   \n",
       "1  While Bill Cosby is finally doing a long overd...   \n",
       "2  The American Center for Law and Justice (ACLJ)...   \n",
       "3  The democrats are about to pay for their false...   \n",
       "4  The Clinton Foundation isnât the only big lo...   \n",
       "\n",
       "  controversial trending issue  \n",
       "0                      hillary  \n",
       "1                      hillary  \n",
       "2                      hillary  \n",
       "3                      hillary  \n",
       "4                      hillary  "
      ]
     },
     "execution_count": 11,
     "metadata": {},
     "output_type": "execute_result"
    }
   ],
   "source": [
    "print(len(data_df))\n",
    "print(list(data_df))\n",
    "data_df.head()"
   ]
  },
  {
   "cell_type": "code",
   "execution_count": 19,
   "metadata": {},
   "outputs": [
    {
     "name": "stdout",
     "output_type": "stream",
     "text": [
      "Average text length: 3922.2218649517686\n"
     ]
    }
   ],
   "source": [
    "print(\"Average text length: {}\".format(np.mean([len(t) for t in data_df['text'].tolist()])))"
   ]
  },
  {
   "cell_type": "code",
   "execution_count": null,
   "metadata": {},
   "outputs": [],
   "source": []
  }
 ],
 "metadata": {
  "kernelspec": {
   "display_name": "Python 3",
   "language": "python",
   "name": "python3"
  },
  "language_info": {
   "codemirror_mode": {
    "name": "ipython",
    "version": 3
   },
   "file_extension": ".py",
   "mimetype": "text/x-python",
   "name": "python",
   "nbconvert_exporter": "python",
   "pygments_lexer": "ipython3",
   "version": "3.6.8"
  }
 },
 "nbformat": 4,
 "nbformat_minor": 1
}
